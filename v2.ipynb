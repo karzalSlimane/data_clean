{
 "cells": [
  {
   "cell_type": "code",
   "execution_count": 395,
   "id": "a6fdec71-114d-4962-8628-934017115ecd",
   "metadata": {},
   "outputs": [],
   "source": [
    "import pandas as pd"
   ]
  },
  {
   "cell_type": "code",
   "execution_count": 443,
   "id": "bbe6745c-de53-49a2-bcd2-d757835a72da",
   "metadata": {},
   "outputs": [],
   "source": [
    "import numpy as np \n",
    "import matplotlib.pyplot as plt"
   ]
  },
  {
   "cell_type": "code",
   "execution_count": 445,
   "id": "dfa20484-dd94-4a62-994e-51240f7d7b7e",
   "metadata": {},
   "outputs": [],
   "source": [
    "data= pd.read_csv(\"avito_data.csv\")"
   ]
  },
  {
   "cell_type": "code",
   "execution_count": 447,
   "id": "bda1da0a-4b10-473a-80f4-ceb76186407b",
   "metadata": {},
   "outputs": [
    {
     "data": {
      "text/html": [
       "<div>\n",
       "<style scoped>\n",
       "    .dataframe tbody tr th:only-of-type {\n",
       "        vertical-align: middle;\n",
       "    }\n",
       "\n",
       "    .dataframe tbody tr th {\n",
       "        vertical-align: top;\n",
       "    }\n",
       "\n",
       "    .dataframe thead th {\n",
       "        text-align: right;\n",
       "    }\n",
       "</style>\n",
       "<table border=\"1\" class=\"dataframe\">\n",
       "  <thead>\n",
       "    <tr style=\"text-align: right;\">\n",
       "      <th></th>\n",
       "      <th>Unnamed: 0</th>\n",
       "      <th>title</th>\n",
       "      <th>price</th>\n",
       "      <th>city</th>\n",
       "      <th>datetime</th>\n",
       "      <th>nb_rooms</th>\n",
       "      <th>nb_baths</th>\n",
       "      <th>surface_area</th>\n",
       "      <th>equipement</th>\n",
       "      <th>link</th>\n",
       "    </tr>\n",
       "  </thead>\n",
       "  <tbody>\n",
       "    <tr>\n",
       "      <th>0</th>\n",
       "      <td>0</td>\n",
       "      <td>CMN-MA-1641 - Appartement à vendre à Val Fleurie</td>\n",
       "      <td>1 600 000 DH</td>\n",
       "      <td>Casablanca</td>\n",
       "      <td>11/6/2024, 12:12:49 PM</td>\n",
       "      <td>3.0</td>\n",
       "      <td>1</td>\n",
       "      <td>132</td>\n",
       "      <td>Ascenseur, Balcon, Parking, Terrasse</td>\n",
       "      <td>https://www.avito.ma/fr/val_fleuri/appartement...</td>\n",
       "    </tr>\n",
       "    <tr>\n",
       "      <th>1</th>\n",
       "      <td>1</td>\n",
       "      <td>Appartement à vendre 125 m² à Casablanca</td>\n",
       "      <td>9 900 DH</td>\n",
       "      <td>Casablanca</td>\n",
       "      <td>11/6/2024, 12:12:26 PM</td>\n",
       "      <td>2.0</td>\n",
       "      <td>2</td>\n",
       "      <td>125</td>\n",
       "      <td>Balcon, Climatisation, Cuisine Équipée, Parkin...</td>\n",
       "      <td>https://www.avito.ma/fr/autre_secteur/appartem...</td>\n",
       "    </tr>\n",
       "    <tr>\n",
       "      <th>2</th>\n",
       "      <td>2</td>\n",
       "      <td>CMN-MA-1787 - Appartement à vendre à Les Hôpitaux</td>\n",
       "      <td>2 300 000 DH</td>\n",
       "      <td>Casablanca</td>\n",
       "      <td>11/6/2024, 12:10:48 PM</td>\n",
       "      <td>3.0</td>\n",
       "      <td>2</td>\n",
       "      <td>233</td>\n",
       "      <td>Ascenseur, Balcon, Parking, Terrasse</td>\n",
       "      <td>https://www.avito.ma/fr/quartier_des_h%C3%B4pi...</td>\n",
       "    </tr>\n",
       "    <tr>\n",
       "      <th>3</th>\n",
       "      <td>3</td>\n",
       "      <td>Appartement à vendre 3 chambres Salon à Casa</td>\n",
       "      <td>PRIX NON SPÉCIFIÉ</td>\n",
       "      <td>Casablanca</td>\n",
       "      <td>11/6/2024, 12:10:57 PM</td>\n",
       "      <td>NaN</td>\n",
       "      <td>NaN</td>\n",
       "      <td>NaN</td>\n",
       "      <td>NaN</td>\n",
       "      <td>https://www.avito.ma/fr/ain_sebaa/appartements...</td>\n",
       "    </tr>\n",
       "    <tr>\n",
       "      <th>4</th>\n",
       "      <td>4</td>\n",
       "      <td>NaN</td>\n",
       "      <td>NaN</td>\n",
       "      <td>NaN</td>\n",
       "      <td>NaN</td>\n",
       "      <td>NaN</td>\n",
       "      <td>NaN</td>\n",
       "      <td>NaN</td>\n",
       "      <td>NaN</td>\n",
       "      <td>https://immoneuf.avito.ma/fr/unite/l53?utm_sou...</td>\n",
       "    </tr>\n",
       "  </tbody>\n",
       "</table>\n",
       "</div>"
      ],
      "text/plain": [
       "   Unnamed: 0                                              title  \\\n",
       "0           0   CMN-MA-1641 - Appartement à vendre à Val Fleurie   \n",
       "1           1           Appartement à vendre 125 m² à Casablanca   \n",
       "2           2  CMN-MA-1787 - Appartement à vendre à Les Hôpitaux   \n",
       "3           3       Appartement à vendre 3 chambres Salon à Casa   \n",
       "4           4                                                NaN   \n",
       "\n",
       "               price        city                datetime  nb_rooms nb_baths  \\\n",
       "0       1 600 000 DH  Casablanca  11/6/2024, 12:12:49 PM       3.0        1   \n",
       "1           9 900 DH  Casablanca  11/6/2024, 12:12:26 PM       2.0        2   \n",
       "2       2 300 000 DH  Casablanca  11/6/2024, 12:10:48 PM       3.0        2   \n",
       "3  PRIX NON SPÉCIFIÉ  Casablanca  11/6/2024, 12:10:57 PM       NaN      NaN   \n",
       "4                NaN         NaN                     NaN       NaN      NaN   \n",
       "\n",
       "  surface_area                                         equipement  \\\n",
       "0          132               Ascenseur, Balcon, Parking, Terrasse   \n",
       "1          125  Balcon, Climatisation, Cuisine Équipée, Parkin...   \n",
       "2          233               Ascenseur, Balcon, Parking, Terrasse   \n",
       "3          NaN                                                NaN   \n",
       "4          NaN                                                NaN   \n",
       "\n",
       "                                                link  \n",
       "0  https://www.avito.ma/fr/val_fleuri/appartement...  \n",
       "1  https://www.avito.ma/fr/autre_secteur/appartem...  \n",
       "2  https://www.avito.ma/fr/quartier_des_h%C3%B4pi...  \n",
       "3  https://www.avito.ma/fr/ain_sebaa/appartements...  \n",
       "4  https://immoneuf.avito.ma/fr/unite/l53?utm_sou...  "
      ]
     },
     "execution_count": 447,
     "metadata": {},
     "output_type": "execute_result"
    }
   ],
   "source": [
    "data.head()"
   ]
  },
  {
   "cell_type": "code",
   "execution_count": 449,
   "id": "b04ec1c6-47b7-4059-b6b5-669d34d9e75f",
   "metadata": {},
   "outputs": [],
   "source": [
    "data_copy = data.drop(columns=['link'])"
   ]
  },
  {
   "cell_type": "code",
   "execution_count": 451,
   "id": "b6e871e2-fa3e-46cb-91a9-14639b3c952b",
   "metadata": {},
   "outputs": [
    {
     "data": {
      "text/plain": [
       "(868, 9)"
      ]
     },
     "execution_count": 451,
     "metadata": {},
     "output_type": "execute_result"
    }
   ],
   "source": [
    "# Keep only rows where the 9th column (index 8) is not NaN\n",
    "data_copy = data_copy[~data_copy.iloc[:, 8].isna()]\n",
    "\n",
    "# Check the shape after dropping rows\n",
    "data_copy.shape"
   ]
  },
  {
   "cell_type": "code",
   "execution_count": 453,
   "id": "6c432f83-5764-43af-a30a-bac3ef0e21c9",
   "metadata": {},
   "outputs": [],
   "source": [
    "data_copy = data_copy.drop(columns=['Unnamed: 0'])"
   ]
  },
  {
   "cell_type": "code",
   "execution_count": 455,
   "id": "1fed7272-c702-41af-8aea-5ac43850573b",
   "metadata": {},
   "outputs": [
    {
     "data": {
      "text/html": [
       "<div>\n",
       "<style scoped>\n",
       "    .dataframe tbody tr th:only-of-type {\n",
       "        vertical-align: middle;\n",
       "    }\n",
       "\n",
       "    .dataframe tbody tr th {\n",
       "        vertical-align: top;\n",
       "    }\n",
       "\n",
       "    .dataframe thead th {\n",
       "        text-align: right;\n",
       "    }\n",
       "</style>\n",
       "<table border=\"1\" class=\"dataframe\">\n",
       "  <thead>\n",
       "    <tr style=\"text-align: right;\">\n",
       "      <th></th>\n",
       "      <th>title</th>\n",
       "      <th>price</th>\n",
       "      <th>city</th>\n",
       "      <th>datetime</th>\n",
       "      <th>nb_rooms</th>\n",
       "      <th>nb_baths</th>\n",
       "      <th>surface_area</th>\n",
       "      <th>equipement</th>\n",
       "    </tr>\n",
       "  </thead>\n",
       "  <tbody>\n",
       "    <tr>\n",
       "      <th>0</th>\n",
       "      <td>CMN-MA-1641 - Appartement à vendre à Val Fleurie</td>\n",
       "      <td>1 600 000 DH</td>\n",
       "      <td>Casablanca</td>\n",
       "      <td>11/6/2024, 12:12:49 PM</td>\n",
       "      <td>3.0</td>\n",
       "      <td>1</td>\n",
       "      <td>132</td>\n",
       "      <td>Ascenseur, Balcon, Parking, Terrasse</td>\n",
       "    </tr>\n",
       "    <tr>\n",
       "      <th>1</th>\n",
       "      <td>Appartement à vendre 125 m² à Casablanca</td>\n",
       "      <td>9 900 DH</td>\n",
       "      <td>Casablanca</td>\n",
       "      <td>11/6/2024, 12:12:26 PM</td>\n",
       "      <td>2.0</td>\n",
       "      <td>2</td>\n",
       "      <td>125</td>\n",
       "      <td>Balcon, Climatisation, Cuisine Équipée, Parkin...</td>\n",
       "    </tr>\n",
       "    <tr>\n",
       "      <th>2</th>\n",
       "      <td>CMN-MA-1787 - Appartement à vendre à Les Hôpitaux</td>\n",
       "      <td>2 300 000 DH</td>\n",
       "      <td>Casablanca</td>\n",
       "      <td>11/6/2024, 12:10:48 PM</td>\n",
       "      <td>3.0</td>\n",
       "      <td>2</td>\n",
       "      <td>233</td>\n",
       "      <td>Ascenseur, Balcon, Parking, Terrasse</td>\n",
       "    </tr>\n",
       "    <tr>\n",
       "      <th>5</th>\n",
       "      <td>Appartement à vendre 202 m² à Casablanca</td>\n",
       "      <td>3 000 000 DH</td>\n",
       "      <td>Casablanca</td>\n",
       "      <td>11/6/2024, 11:59:43 AM</td>\n",
       "      <td>4.0</td>\n",
       "      <td>3</td>\n",
       "      <td>202</td>\n",
       "      <td>Ascenseur, Balcon, Climatisation, Concierge, T...</td>\n",
       "    </tr>\n",
       "    <tr>\n",
       "      <th>6</th>\n",
       "      <td>Appartement 76 m² bien ensoleillé avec terrasse</td>\n",
       "      <td>17 500 DH</td>\n",
       "      <td>Casablanca</td>\n",
       "      <td>11/6/2024, 11:59:29 AM</td>\n",
       "      <td>2.0</td>\n",
       "      <td>2</td>\n",
       "      <td>76</td>\n",
       "      <td>Ascenseur, Balcon, Concierge, Cuisine Équipée,...</td>\n",
       "    </tr>\n",
       "  </tbody>\n",
       "</table>\n",
       "</div>"
      ],
      "text/plain": [
       "                                               title         price  \\\n",
       "0   CMN-MA-1641 - Appartement à vendre à Val Fleurie  1 600 000 DH   \n",
       "1           Appartement à vendre 125 m² à Casablanca      9 900 DH   \n",
       "2  CMN-MA-1787 - Appartement à vendre à Les Hôpitaux  2 300 000 DH   \n",
       "5           Appartement à vendre 202 m² à Casablanca  3 000 000 DH   \n",
       "6    Appartement 76 m² bien ensoleillé avec terrasse     17 500 DH   \n",
       "\n",
       "         city                datetime  nb_rooms nb_baths surface_area  \\\n",
       "0  Casablanca  11/6/2024, 12:12:49 PM       3.0        1          132   \n",
       "1  Casablanca  11/6/2024, 12:12:26 PM       2.0        2          125   \n",
       "2  Casablanca  11/6/2024, 12:10:48 PM       3.0        2          233   \n",
       "5  Casablanca  11/6/2024, 11:59:43 AM       4.0        3          202   \n",
       "6  Casablanca  11/6/2024, 11:59:29 AM       2.0        2           76   \n",
       "\n",
       "                                          equipement  \n",
       "0               Ascenseur, Balcon, Parking, Terrasse  \n",
       "1  Balcon, Climatisation, Cuisine Équipée, Parkin...  \n",
       "2               Ascenseur, Balcon, Parking, Terrasse  \n",
       "5  Ascenseur, Balcon, Climatisation, Concierge, T...  \n",
       "6  Ascenseur, Balcon, Concierge, Cuisine Équipée,...  "
      ]
     },
     "execution_count": 455,
     "metadata": {},
     "output_type": "execute_result"
    }
   ],
   "source": [
    "data_copy.head()"
   ]
  },
  {
   "cell_type": "code",
   "execution_count": 456,
   "id": "762bd04f-0e2d-43ed-98ce-96627c548f3a",
   "metadata": {},
   "outputs": [
    {
     "name": "stdout",
     "output_type": "stream",
     "text": [
      "               Column Name Data Type  Non-Null Count  Missing Percentage\n",
      "title                title    object             868            0.000000\n",
      "price                price    object             868            0.000000\n",
      "city                  city    object             868            0.000000\n",
      "datetime          datetime    object             864            0.460829\n",
      "nb_rooms          nb_rooms   float64             868            0.000000\n",
      "nb_baths          nb_baths    object             864            0.460829\n",
      "surface_area  surface_area    object             756           12.903226\n",
      "equipement      equipement    object             868            0.000000\n"
     ]
    }
   ],
   "source": [
    "# Obtenir un aperçu des colonnes, types de données, et pourcentage de valeurs manquantes\n",
    "data_catalogue = pd.DataFrame({\n",
    "    'Column Name': data_copy.columns,\n",
    "    'Data Type': data_copy.dtypes,\n",
    "    'Non-Null Count': data_copy.notnull().sum(),\n",
    "    'Missing Percentage': data_copy.isnull().mean() * 100\n",
    "})\n",
    "\n",
    "# Afficher le catalogue\n",
    "print(data_catalogue)\n"
   ]
  },
  {
   "cell_type": "code",
   "execution_count": 459,
   "id": "845c82bb-40f0-420f-b8a3-08713ff2ad4d",
   "metadata": {},
   "outputs": [],
   "source": [
    "\n",
    "# Convertir la colonne 'price' en chaîne (au cas où elle contiendrait d'autres types)\n",
    "data_copy['price'] = data_copy['price'].astype(str)\n",
    "\n",
    "# Utiliser une expression régulière pour extraire uniquement les chiffres et supprimer tout autre caractère\n",
    "data_copy['price'] = data_copy['price'].str.replace(r'\\D', '', regex=True)  # Remplacer tout caractère non numérique\n",
    "\n",
    "\n"
   ]
  },
  {
   "cell_type": "code",
   "execution_count": 460,
   "id": "16237439-447f-4b89-a63a-ea2b8d68456d",
   "metadata": {},
   "outputs": [
    {
     "name": "stdout",
     "output_type": "stream",
     "text": [
      "nb_baths        float64\n",
      "nb_rooms        float64\n",
      "surface_area    float64\n",
      "price             int64\n",
      "dtype: object\n"
     ]
    }
   ],
   "source": [
    "data_copy['price'] = pd.to_numeric(data_copy['price'], errors='coerce')\n",
    "data_copy['nb_baths'] = pd.to_numeric(data_copy['nb_baths'], errors='coerce')\n",
    "data_copy['nb_rooms'] = pd.to_numeric(data_copy['nb_rooms'], errors='coerce')\n",
    "data_copy['surface_area'] = pd.to_numeric(data_copy['surface_area'], errors='coerce')\n",
    "\n",
    "# Verify the changes\n",
    "print(data_copy[['nb_baths', 'nb_rooms', 'surface_area','price']].dtypes)\n"
   ]
  },
  {
   "cell_type": "code",
   "execution_count": null,
   "id": "afe09d93-0842-43da-8a1d-1996035ca76c",
   "metadata": {},
   "outputs": [],
   "source": []
  },
  {
   "cell_type": "code",
   "execution_count": 464,
   "id": "bddf7e93-94a2-4db0-9498-44d6e4df2edc",
   "metadata": {},
   "outputs": [
    {
     "name": "stdout",
     "output_type": "stream",
     "text": [
      "                      mean     median           std\n",
      "price         2.330427e+06  1262100.0  2.169921e+07\n",
      "nb_rooms      2.458525e+00        2.0  7.529312e-01\n",
      "nb_baths      1.946759e+00        2.0  4.354717e+00\n",
      "surface_area  1.158135e+02      107.5  5.662745e+01\n"
     ]
    }
   ],
   "source": [
    "# Calculate descriptive statistics for numeric columns\n",
    "descriptive_stats = data_copy.describe().T  # Transpose to view each column in rows\n",
    "\n",
    "# Add the median to the statistics\n",
    "descriptive_stats['median'] = data_copy.median(numeric_only=True)\n",
    "\n",
    "# Display only mean, median, and standard deviation\n",
    "print(descriptive_stats[['mean', 'median', 'std']])\n"
   ]
  },
  {
   "cell_type": "code",
   "execution_count": 465,
   "id": "68b994a9-cf26-4e1d-b8c6-76fb82a962b6",
   "metadata": {},
   "outputs": [],
   "source": [
    "\n",
    "# Calculate preliminary statistics for numerical columns\n",
    "numeric_data = data_copy.select_dtypes(include='number')\n",
    "preliminary_stats = numeric_data.describe().T  # transpose for readability\n",
    "\n",
    "# Calculate additional metrics: median\n",
    "preliminary_stats['median'] = numeric_data.median()\n"
   ]
  },
  {
   "cell_type": "code",
   "execution_count": 466,
   "id": "a386b114-6d4d-4b35-887f-e66765174cae",
   "metadata": {},
   "outputs": [
    {
     "data": {
      "text/html": [
       "<div>\n",
       "<style scoped>\n",
       "    .dataframe tbody tr th:only-of-type {\n",
       "        vertical-align: middle;\n",
       "    }\n",
       "\n",
       "    .dataframe tbody tr th {\n",
       "        vertical-align: top;\n",
       "    }\n",
       "\n",
       "    .dataframe thead th {\n",
       "        text-align: right;\n",
       "    }\n",
       "</style>\n",
       "<table border=\"1\" class=\"dataframe\">\n",
       "  <thead>\n",
       "    <tr style=\"text-align: right;\">\n",
       "      <th></th>\n",
       "      <th>count</th>\n",
       "      <th>mean</th>\n",
       "      <th>std</th>\n",
       "      <th>min</th>\n",
       "      <th>25%</th>\n",
       "      <th>50%</th>\n",
       "      <th>75%</th>\n",
       "      <th>max</th>\n",
       "      <th>median</th>\n",
       "    </tr>\n",
       "  </thead>\n",
       "  <tbody>\n",
       "    <tr>\n",
       "      <th>price</th>\n",
       "      <td>868.0</td>\n",
       "      <td>2.330427e+06</td>\n",
       "      <td>2.169921e+07</td>\n",
       "      <td>44.0</td>\n",
       "      <td>780000.0</td>\n",
       "      <td>1262100.0</td>\n",
       "      <td>1900000.0</td>\n",
       "      <td>627900000.0</td>\n",
       "      <td>1262100.0</td>\n",
       "    </tr>\n",
       "    <tr>\n",
       "      <th>nb_rooms</th>\n",
       "      <td>868.0</td>\n",
       "      <td>2.458525e+00</td>\n",
       "      <td>7.529312e-01</td>\n",
       "      <td>1.0</td>\n",
       "      <td>2.0</td>\n",
       "      <td>2.0</td>\n",
       "      <td>3.0</td>\n",
       "      <td>7.0</td>\n",
       "      <td>2.0</td>\n",
       "    </tr>\n",
       "    <tr>\n",
       "      <th>nb_baths</th>\n",
       "      <td>864.0</td>\n",
       "      <td>1.946759e+00</td>\n",
       "      <td>4.354717e+00</td>\n",
       "      <td>0.0</td>\n",
       "      <td>1.0</td>\n",
       "      <td>2.0</td>\n",
       "      <td>2.0</td>\n",
       "      <td>110.0</td>\n",
       "      <td>2.0</td>\n",
       "    </tr>\n",
       "    <tr>\n",
       "      <th>surface_area</th>\n",
       "      <td>756.0</td>\n",
       "      <td>1.158135e+02</td>\n",
       "      <td>5.662745e+01</td>\n",
       "      <td>11.0</td>\n",
       "      <td>76.0</td>\n",
       "      <td>107.5</td>\n",
       "      <td>140.0</td>\n",
       "      <td>447.0</td>\n",
       "      <td>107.5</td>\n",
       "    </tr>\n",
       "  </tbody>\n",
       "</table>\n",
       "</div>"
      ],
      "text/plain": [
       "              count          mean           std   min       25%        50%  \\\n",
       "price         868.0  2.330427e+06  2.169921e+07  44.0  780000.0  1262100.0   \n",
       "nb_rooms      868.0  2.458525e+00  7.529312e-01   1.0       2.0        2.0   \n",
       "nb_baths      864.0  1.946759e+00  4.354717e+00   0.0       1.0        2.0   \n",
       "surface_area  756.0  1.158135e+02  5.662745e+01  11.0      76.0      107.5   \n",
       "\n",
       "                    75%          max     median  \n",
       "price         1900000.0  627900000.0  1262100.0  \n",
       "nb_rooms            3.0          7.0        2.0  \n",
       "nb_baths            2.0        110.0        2.0  \n",
       "surface_area      140.0        447.0      107.5  "
      ]
     },
     "execution_count": 466,
     "metadata": {},
     "output_type": "execute_result"
    }
   ],
   "source": [
    "preliminary_stats"
   ]
  },
  {
   "cell_type": "markdown",
   "id": "7c172720-210e-4102-8937-17a0bb123e2f",
   "metadata": {},
   "source": [
    "| Variable        | Moyenne        | Médiane       | Écart-Type    | Observation sur la Distribution                              |\n",
    "|-----------------|----------------|---------------|---------------|-------------------------------------------------------------|\n",
    "| **Prix (price)**      | 2,330,427      | 1,262,100     | N/A           | Asymétrie positive (moyenne > médiane)                       |\n",
    "| **Nb de chambres (nb_rooms)** | 2.46           | 2             | N/A           | Distribution relativement symétrique (moyenne ≈ médiane)    |\n",
    "| **Nb de salles de bains (nb_baths)** | 1.95           | 2             | 4.35          | Distribution asymétrique avec des outliers (écart-type élevé)|\n",
    "| **Surface (surface_area)** | 115.81 m²      | 107.5 m²      | 56.63 m²      | Asymétrie (moyenne > médiane) avec une forte variabilité     |\n"
   ]
  },
  {
   "cell_type": "markdown",
   "id": "39101596-de4d-4e28-9ea1-f462d1822899",
   "metadata": {},
   "source": [
    "## Imputation des Valeurs Manquantes\n",
    "\n",
    "L'imputation des valeurs manquantes dépend de la distribution des variables. Voici les recommandations pour chaque type de variable :\n",
    "\n",
    "| Variable               | Type de Distribution    | Méthode d'Imputation Recommandée                                  | Justification                                                                                                                                                        |\n",
    "|------------------------|-------------------------|-------------------------------------------------------------------|----------------------------------------------------------------------------------------------------------------------------------------------------------------------|\n",
    "| **Prix (price)**        | Asymétrique (positivement biaisée) | Médiane ou méthode avancée (KNN, régression)                     | La médiane est une bonne option pour éviter l'influence des valeurs extrêmes. Si la distribution est très biaisée, l'imputation par KNN ou régression peut être envisagée. |\n",
    "| **Nb de chambres (nb_rooms)** | Symétrique           | Médiane                                                            | La médiane est bien adaptée, car elle est moins influencée par les valeurs aberrantes et les distributions symétriques.                                                |\n",
    "| **Nb de salles de bains (nb_baths)** | Asymétrique (avec des outliers) | Médiane ou KNN                                                     | La médiane est une bonne option, mais si des valeurs extrêmes sont présentes, l'imputation par KNN pourrait être une méthode plus robuste.                          |\n",
    "| **Surface (surface_area)** | Asymétrique            | Médiane ou méthode avancée (KNN, régression)                      | Comme pour le prix, la médiane est une bonne approche. Si la distribution est fortement biaisée, des méthodes plus avancées (KNN, régression) peuvent être utilisées.  |\n",
    "\n",
    "### Explication\n",
    "- **Pour les variables symétriques** : La médiane est préférée, car elle n'est pas influencée par des valeurs extrêmes. Cela est particulièrement pertinent pour les variables comme le nombre de chambres.\n",
    "  \n",
    "- **Pour les variables asymétriques (prix et surface)** : La médiane peut également être utilisée pour l'imputation, mais dans le cas où la distribution est très biaisée, des techniques plus sophistiquées comme l'imputation par **KNN** ou **régression** peuvent être envisagées pour mieux capturer la relation entre les variables et les valeurs manquantes.\n"
   ]
  },
  {
   "cell_type": "code",
   "execution_count": null,
   "id": "b3cca19d-efbe-49b3-8f4f-a399fcdd496f",
   "metadata": {},
   "outputs": [],
   "source": []
  },
  {
   "cell_type": "code",
   "execution_count": null,
   "id": "6f2340e6-db48-43fd-a40e-774c2c397af5",
   "metadata": {},
   "outputs": [],
   "source": []
  },
  {
   "cell_type": "code",
   "execution_count": 474,
   "id": "606b8d79-22d3-488a-8b61-43955589399b",
   "metadata": {},
   "outputs": [
    {
     "name": "stdout",
     "output_type": "stream",
     "text": [
      "title           0\n",
      "price           0\n",
      "city            0\n",
      "datetime        4\n",
      "nb_rooms        0\n",
      "nb_baths        4\n",
      "surface_area    0\n",
      "equipement      0\n",
      "dtype: int64\n"
     ]
    },
    {
     "name": "stderr",
     "output_type": "stream",
     "text": [
      "C:\\Users\\Youcode\\AppData\\Local\\Temp\\ipykernel_1304\\433309785.py:29: FutureWarning: A value is trying to be set on a copy of a DataFrame or Series through chained assignment using an inplace method.\n",
      "The behavior will change in pandas 3.0. This inplace method will never work because the intermediate object on which we are setting values always behaves as a copy.\n",
      "\n",
      "For example, when doing 'df[col].method(value, inplace=True)', try using 'df.method({col: value}, inplace=True)' or df[col] = df[col].method(value) instead, to perform the operation inplace on the original object.\n",
      "\n",
      "\n",
      "  data_copy['nb_rooms'].fillna(mode_nb_rooms, inplace=True)\n",
      "C:\\Users\\Youcode\\AppData\\Local\\Temp\\ipykernel_1304\\433309785.py:30: FutureWarning: A value is trying to be set on a copy of a DataFrame or Series through chained assignment using an inplace method.\n",
      "The behavior will change in pandas 3.0. This inplace method will never work because the intermediate object on which we are setting values always behaves as a copy.\n",
      "\n",
      "For example, when doing 'df[col].method(value, inplace=True)', try using 'df.method({col: value}, inplace=True)' or df[col] = df[col].method(value) instead, to perform the operation inplace on the original object.\n",
      "\n",
      "\n",
      "  data_copy['nb_baths'].fillna(mode_nb_baths, inplace=True)\n"
     ]
    }
   ],
   "source": [
    "import pandas as pd\n",
    "from sklearn.impute import KNNImputer\n",
    "from scipy.stats import mode\n",
    "\n",
    "# Utiliser le DataFrame data_copy\n",
    "# df = data_copy\n",
    "\n",
    "# -----------------------------------------\n",
    "# 1. Imputation avec KNN (pour price et surface_area)\n",
    "# -----------------------------------------\n",
    "\n",
    "# Sélectionner les colonnes numériques pour KNN (ici, 'price' et 'surface_area')\n",
    "knn_columns = ['price', 'surface_area']\n",
    "\n",
    "# Instancier le modèle KNN Imputer avec k=3 voisins (ajustez selon les besoins)\n",
    "knn_imputer = KNNImputer(n_neighbors=3)\n",
    "\n",
    "# Appliquer KNN uniquement sur les variables numériques (pour imputer les valeurs manquantes)\n",
    "data_copy[knn_columns] = knn_imputer.fit_transform(data_copy[knn_columns])\n",
    "\n",
    "# -----------------------------------------\n",
    "# 2. Imputation avec le Mode (pour nb_rooms et nb_baths)\n",
    "# -----------------------------------------\n",
    "\n",
    "# Calculer le mode (valeur la plus fréquente) pour 'nb_rooms' et 'nb_baths'\n",
    "mode_nb_rooms = data_copy['nb_rooms'].mode()# Mode sans les NaN\n",
    "mode_nb_baths = data_copy['nb_baths'].mode()\n",
    "# Remplacer les valeurs manquantes par le mode\n",
    "data_copy['nb_rooms'].fillna(mode_nb_rooms, inplace=True)\n",
    "data_copy['nb_baths'].fillna(mode_nb_baths, inplace=True)\n",
    "\n",
    "# -----------------------------------------\n",
    "# Vérification des valeurs manquantes après imputation\n",
    "# -----------------------------------------\n",
    "\n",
    "# Afficher le nombre de valeurs manquantes restantes pour chaque colonne\n",
    "print(data_copy.isnull().sum())\n"
   ]
  },
  {
   "cell_type": "code",
   "execution_count": 476,
   "id": "c51ef3fb-fe00-48f6-812d-2cbc19e60ab8",
   "metadata": {},
   "outputs": [],
   "source": [
    "from scipy.stats import zscore\n",
    "# Detect outliers in 'price_numeric' using Z-score: values far from the mean (±3 standard deviations)\n",
    "data_copy['price_z'] = zscore(data_copy['price'])\n",
    "price_outliers = data_copy[(data_copy['price_z'] > 3) | (data_copy['price_z'] < -3)]\n"
   ]
  },
  {
   "cell_type": "code",
   "execution_count": null,
   "id": "19ffb4b2-b929-49c4-83ed-dd06bfe2ae33",
   "metadata": {},
   "outputs": [],
   "source": []
  },
  {
   "cell_type": "code",
   "execution_count": 478,
   "id": "470fcae5-f2d1-44c4-a297-2788323b2a0e",
   "metadata": {},
   "outputs": [
    {
     "data": {
      "text/html": [
       "<div>\n",
       "<style scoped>\n",
       "    .dataframe tbody tr th:only-of-type {\n",
       "        vertical-align: middle;\n",
       "    }\n",
       "\n",
       "    .dataframe tbody tr th {\n",
       "        vertical-align: top;\n",
       "    }\n",
       "\n",
       "    .dataframe thead th {\n",
       "        text-align: right;\n",
       "    }\n",
       "</style>\n",
       "<table border=\"1\" class=\"dataframe\">\n",
       "  <thead>\n",
       "    <tr style=\"text-align: right;\">\n",
       "      <th></th>\n",
       "      <th>title</th>\n",
       "      <th>price</th>\n",
       "      <th>city</th>\n",
       "      <th>datetime</th>\n",
       "      <th>nb_rooms</th>\n",
       "      <th>nb_baths</th>\n",
       "      <th>surface_area</th>\n",
       "      <th>equipement</th>\n",
       "      <th>price_z</th>\n",
       "    </tr>\n",
       "  </thead>\n",
       "  <tbody>\n",
       "    <tr>\n",
       "      <th>616</th>\n",
       "      <td>Marina Casablanca Appartement Vue Mer</td>\n",
       "      <td>627900000.0</td>\n",
       "      <td>Casablanca</td>\n",
       "      <td>10/25/2024, 10:59:55 AM</td>\n",
       "      <td>3.0</td>\n",
       "      <td>4.0</td>\n",
       "      <td>265.0</td>\n",
       "      <td>Ascenseur, Balcon, Chauffage, Climatisation, C...</td>\n",
       "      <td>28.845764</td>\n",
       "    </tr>\n",
       "    <tr>\n",
       "      <th>737</th>\n",
       "      <td>Appartement a vendre à Benjdia Casablanca</td>\n",
       "      <td>125000000.0</td>\n",
       "      <td>Casablanca</td>\n",
       "      <td>10/21/2024, 11:52:51 AM</td>\n",
       "      <td>3.0</td>\n",
       "      <td>2.0</td>\n",
       "      <td>140.0</td>\n",
       "      <td>Ascenseur, Balcon, Concierge, Cuisine Équipée,...</td>\n",
       "      <td>5.656441</td>\n",
       "    </tr>\n",
       "  </tbody>\n",
       "</table>\n",
       "</div>"
      ],
      "text/plain": [
       "                                         title        price        city  \\\n",
       "616      Marina Casablanca Appartement Vue Mer  627900000.0  Casablanca   \n",
       "737  Appartement a vendre à Benjdia Casablanca  125000000.0  Casablanca   \n",
       "\n",
       "                    datetime  nb_rooms  nb_baths  surface_area  \\\n",
       "616  10/25/2024, 10:59:55 AM       3.0       4.0         265.0   \n",
       "737  10/21/2024, 11:52:51 AM       3.0       2.0         140.0   \n",
       "\n",
       "                                            equipement    price_z  \n",
       "616  Ascenseur, Balcon, Chauffage, Climatisation, C...  28.845764  \n",
       "737  Ascenseur, Balcon, Concierge, Cuisine Équipée,...   5.656441  "
      ]
     },
     "execution_count": 478,
     "metadata": {},
     "output_type": "execute_result"
    }
   ],
   "source": [
    "price_outliers"
   ]
  },
  {
   "cell_type": "code",
   "execution_count": 490,
   "id": "9ff6bf87-e7a9-4cca-b1f5-14d0c2d998f6",
   "metadata": {},
   "outputs": [
    {
     "data": {
      "image/png": "[encoded data removed]",
      "text/plain": [
       "<Figure size 1000x600 with 1 Axes>"
      ]
     },
     "metadata": {},
     "output_type": "display_data"
    }
   ],
   "source": [
    "# Boxplot to visualize outliers in 'price_cleaned'\n",
    "plt.figure(figsize=(10, 6))\n",
    "sns.boxplot(x=data['price'])\n",
    "plt.title(\"Boxplot of Price with Outliers Highlighted\")\n",
    "plt.xlabel(\"price\")\n",
    "plt.grid(axis='y', linestyle='--', alpha=0.7)\n",
    "plt.show()"
   ]
  },
  {
   "cell_type": "code",
   "execution_count": 481,
   "id": "fe893685-71de-41f0-b48f-b9a051825fe5",
   "metadata": {},
   "outputs": [
    {
     "name": "stdout",
     "output_type": "stream",
     "text": [
      "Outliers in 'area': 36\n"
     ]
    },
    {
     "data": {
      "image/png": "[encoded data removed]",
      "text/plain": [
       "<Figure size 640x480 with 1 Axes>"
      ]
     },
     "metadata": {},
     "output_type": "display_data"
    }
   ],
   "source": [
    "# Calculate Interquartile Range (IQR) for 'area' and detect outliers based on spread\n",
    "Q1 = data_copy['surface_area'].quantile(0.25)\n",
    "Q3 = data_copy['surface_area'].quantile(0.75)\n",
    "IQR = Q3 - Q1\n",
    "area_outliers = data_copy[(data_copy['surface_area'] < (Q1 - 1.5 * IQR)) | (data_copy['surface_area'] > (Q3 + 1.5 * IQR))]\n",
    "print(\"Outliers in 'area':\", len(area_outliers))\n",
    "\n",
    "# Visualize area with a boxplot\n",
    "\n",
    "sns.boxplot(data_copy['surface_area'], color=\"lightgreen\")\n",
    "plt.title(\"Boxplot of Property Area with Outliers\")\n",
    "plt.xlabel(\"Area (sq meters)\")\n",
    "plt.show()"
   ]
  },
  {
   "cell_type": "code",
   "execution_count": null,
   "id": "a4a983ed-ca8d-4ad3-971f-dd72a480c67a",
   "metadata": {},
   "outputs": [],
   "source": []
  },
  {
   "cell_type": "code",
   "execution_count": null,
   "id": "b1a18d26-35cf-49f3-932f-0fc0437e60d0",
   "metadata": {},
   "outputs": [],
   "source": []
  },
  {
   "cell_type": "code",
   "execution_count": null,
   "id": "c2feb47f-d982-48ce-bd3e-2dca1434da46",
   "metadata": {},
   "outputs": [],
   "source": []
  }
 ],
 "metadata": {
  "kernelspec": {
   "display_name": "Python 3 (ipykernel)",
   "language": "python",
   "name": "python3"
  },
  "language_info": {
   "codemirror_mode": {
    "name": "ipython",
    "version": 3
   },
   "file_extension": ".py",
   "mimetype": "text/x-python",
   "name": "python",
   "nbconvert_exporter": "python",
   "pygments_lexer": "ipython3",
   "version": "3.12.4"
  }
 },
 "nbformat": 4,
 "nbformat_minor": 5
}
